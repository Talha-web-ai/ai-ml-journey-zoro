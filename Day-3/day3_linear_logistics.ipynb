{
 "cells": [
  {
   "cell_type": "markdown",
   "id": "6c55bc7a-3f2f-4ae7-8b7a-45fd52e1fa36",
   "metadata": {},
   "source": [
    "# Day 3\n"
   ]
  },
  {
   "cell_type": "markdown",
   "id": "e1f01be7-e98d-4ffc-8066-824a9a2a36b0",
   "metadata": {},
   "source": [
    "Linear Regression"
   ]
  },
  {
   "cell_type": "code",
   "execution_count": 22,
   "id": "5d5f514a-d5d0-4c26-bf65-af56c125a004",
   "metadata": {},
   "outputs": [
    {
     "name": "stdout",
     "output_type": "stream",
     "text": [
      "Prediction : [0.71912284 1.76401657 2.70965883 ... 4.46877017 1.18751119 2.00940251]\n",
      "Mean Squared Error: 0.56\n",
      "R² Score: 0.58\n"
     ]
    }
   ],
   "source": [
    "#For practice preproceesing and Sckitlearn we are using a dataset\n",
    "\n",
    "from sklearn.datasets import fetch_california_housing\n",
    "import pandas as pd\n",
    "from sklearn.linear_model import LinearRegression\n",
    "from sklearn.model_selection import train_test_split\n",
    "from sklearn.metrics import mean_squared_error, r2_score\n",
    "\n",
    "# Recommended (newer dataset)\n",
    "data = fetch_california_housing()\n",
    "\n",
    "df=pd.DataFrame(data.data, columns=data.feature_names)\n",
    "df['Target'] = data.target\n",
    "\n",
    "\n",
    "X = df.drop('Target', axis=1)  # Features (independent variables)\n",
    "y = df['Target']               # Label (dependent variable)\n",
    "\n",
    "X_train, X_test, y_train, y_test = train_test_split(X, y, test_size=0.2, random_state=42)\n",
    "\n",
    "model=LinearRegression()\n",
    "model.fit(X_train,y_train)\n",
    "\n",
    "y_preds=model.predict(X_test)\n",
    "print(\"Prediction :\",y_preds)\n",
    "\n",
    "mse=mean_squared_error(y_test,y_preds)\n",
    "r2= r2_score(y_test,y_preds)\n",
    "\n",
    "print(f\"Mean Squared Error: {mse:.2f}\")\n",
    "print(f\"R² Score: {r2:.2f}\")\n",
    "                        "
   ]
  },
  {
   "cell_type": "markdown",
   "id": "b4a4f51e-bb00-4578-8d79-d1e5cf9092d1",
   "metadata": {},
   "source": [
    "Logistic Regression"
   ]
  },
  {
   "cell_type": "code",
   "execution_count": 30,
   "id": "01ec1f4c-bd1b-4348-afee-4608df988a91",
   "metadata": {},
   "outputs": [
    {
     "name": "stdout",
     "output_type": "stream",
     "text": [
      "✅ Accuracy: 0.96\n",
      "\n",
      "🧩 Confusion Matrix:\n",
      " [[39  4]\n",
      " [ 1 70]]\n",
      "\n",
      "📊 Classification Report:\n",
      "               precision    recall  f1-score   support\n",
      "\n",
      "           0       0.97      0.91      0.94        43\n",
      "           1       0.95      0.99      0.97        71\n",
      "\n",
      "    accuracy                           0.96       114\n",
      "   macro avg       0.96      0.95      0.95       114\n",
      "weighted avg       0.96      0.96      0.96       114\n",
      "\n"
     ]
    }
   ],
   "source": [
    "# 1. Import required libraries\n",
    "from sklearn.datasets import load_breast_cancer\n",
    "from sklearn.model_selection import train_test_split\n",
    "from sklearn.linear_model import LogisticRegression\n",
    "from sklearn.metrics import accuracy_score, confusion_matrix, classification_report\n",
    "\n",
    "# 2. Load dataset\n",
    "data = load_breast_cancer()\n",
    "X = data.data\n",
    "y = data.target\n",
    "\n",
    "# 3. Train-test split\n",
    "X_train, X_test, y_train, y_test = train_test_split(\n",
    "    X, y, test_size=0.2, random_state=42\n",
    ")\n",
    "\n",
    "# 4. Train logistic regression model\n",
    "model = LogisticRegression(max_iter=10000)\n",
    "model.fit(X_train, y_train)\n",
    "\n",
    "# 5. Predict on test set\n",
    "y_pred = model.predict(X_test)\n",
    "\n",
    "# 6. Evaluate model\n",
    "accuracy = accuracy_score(y_test, y_pred)\n",
    "cm = confusion_matrix(y_test, y_pred)\n",
    "report = classification_report(y_test, y_pred)\n",
    "\n",
    "# 7. Output metrics\n",
    "print(f\"✅ Accuracy: {accuracy:.2f}\")\n",
    "print(\"\\n🧩 Confusion Matrix:\\n\", cm)\n",
    "print(\"\\n📊 Classification Report:\\n\", report)\n"
   ]
  },
  {
   "cell_type": "code",
   "execution_count": null,
   "id": "2897765e-a950-4457-84cb-d47aa5098c16",
   "metadata": {},
   "outputs": [],
   "source": []
  }
 ],
 "metadata": {
  "kernelspec": {
   "display_name": "Python 3 (ipykernel)",
   "language": "python",
   "name": "python3"
  },
  "language_info": {
   "codemirror_mode": {
    "name": "ipython",
    "version": 3
   },
   "file_extension": ".py",
   "mimetype": "text/x-python",
   "name": "python",
   "nbconvert_exporter": "python",
   "pygments_lexer": "ipython3",
   "version": "3.12.7"
  }
 },
 "nbformat": 4,
 "nbformat_minor": 5
}
