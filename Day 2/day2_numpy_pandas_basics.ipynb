{
 "cells": [
  {
   "cell_type": "markdown",
   "id": "89b6f5bc-720b-4037-a942-67a2d6235d5a",
   "metadata": {},
   "source": [
    "# Numpy"
   ]
  },
  {
   "cell_type": "code",
   "execution_count": 1,
   "id": "9ac15ec5-6367-4297-bd57-d47bfa21a262",
   "metadata": {},
   "outputs": [
    {
     "name": "stdout",
     "output_type": "stream",
     "text": [
      "[1 2 3 4 5]\n",
      "<class 'numpy.ndarray'>\n"
     ]
    }
   ],
   "source": [
    "import numpy as np\n",
    "\n",
    "arr=np.array([1,2,3,4,5])\n",
    "\n",
    "print(arr)\n",
    "print(type(arr))"
   ]
  },
  {
   "cell_type": "code",
   "execution_count": 8,
   "id": "3c505360-eff7-42f9-a4f1-4b42072e2cbe",
   "metadata": {},
   "outputs": [
    {
     "name": "stdout",
     "output_type": "stream",
     "text": [
      "42\n",
      "[1 2 3 4]\n",
      "This is 2 dimension array [[1 2 3 4]\n",
      " [5 6 7 8]]\n",
      "This is 3 dimension array [[[1 2 3]\n",
      "  [4 5 6]\n",
      "  [7 8 9]]]\n"
     ]
    }
   ],
   "source": [
    "#Dimension of Array \n",
    "import numpy as np\n",
    "\n",
    "#0 dimension array\n",
    "arr=np.array(42)\n",
    "print(arr)\n",
    "\n",
    "#1 Dimension array\n",
    "arr1=np.array([1,2,3,4])\n",
    "print(arr1)\n",
    "\n",
    "#2 Dimension array\n",
    "arr2=np.array([[1,2,3,4],[5,6,7,8]])\n",
    "print(\"This is 2 dimension array\",arr2)\n",
    "\n",
    "#3 Dimension array\n",
    "arr3=np.array([[[1,2,3],[4,5,6],[7,8,9]]])\n",
    "print(\"This is 3 dimension array\",arr3)"
   ]
  },
  {
   "cell_type": "code",
   "execution_count": 9,
   "id": "61c7c9fc-d7d6-475d-bd95-b3a5e27b1a89",
   "metadata": {},
   "outputs": [
    {
     "name": "stdout",
     "output_type": "stream",
     "text": [
      "[[[[[1 2 3 4]]]]]\n",
      "number of dimensions : 5\n"
     ]
    }
   ],
   "source": [
    "#Creating an array with 5 dimension using \"ndim\"\n",
    "\n",
    "import numpy as np\n",
    "\n",
    "arr = np.array([1, 2, 3, 4], ndmin=5)\n",
    "\n",
    "print(arr)\n",
    "print('number of dimensions :', arr.ndim)"
   ]
  },
  {
   "cell_type": "code",
   "execution_count": 10,
   "id": "e42d35d3-41da-4a11-9116-2112103e6971",
   "metadata": {},
   "outputs": [
    {
     "name": "stdout",
     "output_type": "stream",
     "text": [
      "2\n",
      "5th element on 2nd row:  10\n",
      "6\n"
     ]
    }
   ],
   "source": [
    "#Indexing in Araray\n",
    "\n",
    "#indexing in 1 dimension array\n",
    "import numpy as np\n",
    "\n",
    "arr = np.array([1, 2, 3, 4])\n",
    "\n",
    "print(arr[1])\n",
    "\n",
    "#indexing in 2 dimension array\n",
    "import numpy as np\n",
    "\n",
    "arr1 = np.array([[1,2,3,4,5], [6,7,8,9,10]])\n",
    "\n",
    "print('5th element on 2nd row: ', arr1[1, 4])\n",
    "\n",
    "#indexing in 3 dimension array\n",
    "import numpy as np\n",
    "\n",
    "arr2 = np.array([[[1, 2, 3], [4, 5, 6]], [[7, 8, 9], [10, 11, 12]]])\n",
    "\n",
    "print(arr2[0, 1, 2])"
   ]
  },
  {
   "cell_type": "code",
   "execution_count": 1,
   "id": "3fc579b3-19f3-46f3-9b49-12c3c4291c62",
   "metadata": {},
   "outputs": [
    {
     "name": "stdout",
     "output_type": "stream",
     "text": [
      "[2 3 4 5]\n",
      "[5 6 7]\n",
      "[5 6]\n",
      "[2 4]\n",
      "[7 8 9]\n"
     ]
    }
   ],
   "source": [
    "#Slicing in Array \n",
    "import numpy as np\n",
    "\n",
    "arr = np.array([1, 2, 3, 4, 5, 6, 7])\n",
    "\n",
    "print(arr[1:5])\n",
    "\n",
    "#Slice elements from index 4 to the end of the array\n",
    "arr = np.array([1, 2, 3, 4, 5, 6, 7])\n",
    "\n",
    "print(arr[4:])\n",
    "\n",
    "#Negative Slicing\n",
    "arr = np.array([1, 2, 3, 4, 5, 6, 7])\n",
    "\n",
    "print(arr[-3:-1])\n",
    "\n",
    "#STEP   \"Return every other element from index 1 to index 5:\"\n",
    "arr = np.array([1, 2, 3, 4, 5, 6, 7])\n",
    "print(arr[1:5:2])\n",
    "\n",
    "#Slicing 2-D array\n",
    "arr = np.array([[1, 2, 3, 4, 5], [6, 7, 8, 9, 10]])\n",
    "\n",
    "print(arr[1, 1:4])"
   ]
  },
  {
   "cell_type": "code",
   "execution_count": 3,
   "id": "7d3953ce-33e6-40b4-a7d3-8ddfb703f172",
   "metadata": {},
   "outputs": [
    {
     "name": "stdout",
     "output_type": "stream",
     "text": [
      "(2, 4)\n",
      "[[[[[1 2 3 4]]]]]\n",
      "shape of array : (1, 1, 1, 1, 4)\n",
      "[[ 1  2  3]\n",
      " [ 4  5  6]\n",
      " [ 7  8  9]\n",
      " [10 11 12]]\n",
      "[1 2 3 4 5 6]\n"
     ]
    }
   ],
   "source": [
    "#Shape of an Array\n",
    "import numpy as np\n",
    "\n",
    "arr = np.array([[1, 2, 3, 4], [5, 6, 7, 8]])\n",
    "\n",
    "print(arr.shape)\n",
    "\n",
    "#Create an array with 5 dimensions using ndmin using a vector with values 1,2,3,4 and verify that last dimension has value 4:\n",
    "import numpy as np\n",
    "\n",
    "arr = np.array([1, 2, 3, 4], ndmin=5)\n",
    "\n",
    "print(arr)\n",
    "print('shape of array :', arr.shape)\n",
    "\n",
    "#Reshape From 1-D to 2-D\n",
    "arr = np.array([1, 2, 3, 4, 5, 6, 7, 8, 9, 10, 11, 12])\n",
    "\n",
    "newarr = arr.reshape(4, 3)\n",
    "\n",
    "print(newarr)\n",
    "\n",
    "#Flattening the arrays\n",
    "arr = np.array([[1, 2, 3], [4, 5, 6]])\n",
    "\n",
    "newarr = arr.reshape(-1)\n",
    "\n",
    "print(newarr)\n"
   ]
  },
  {
   "cell_type": "code",
   "execution_count": 5,
   "id": "f6709ef6-7cfe-4f17-ac90-01ad9377862b",
   "metadata": {},
   "outputs": [
    {
     "name": "stdout",
     "output_type": "stream",
     "text": [
      "Original Matrix:\n",
      " [[54 40 27 97 63 51 31 30 27  5]\n",
      " [78 48 43 35 66 57 19 41 67  6]\n",
      " [ 1 67 84 12  0 25 84 44  8 38]\n",
      " [53  1 14 13  9 14 74 90 16 19]\n",
      " [22  4 71 69 59 27  0 95 37 23]\n",
      " [61 61 68 45 71 83 22 51 93 87]\n",
      " [ 3 89 40 71 30 32  8  7 91 68]\n",
      " [77 29 58  0 79 60 51  2  6 17]\n",
      " [77  4 56  2 18 78 17 40 91  8]\n",
      " [15  5 34 27 21 16 89 49  7 67]]\n",
      "\n",
      "Matrix with Diagonals Replaced:\n",
      " [[ 1 40 27 97 63 51 31 30 27  1]\n",
      " [78  1 43 35 66 57 19 41  1  6]\n",
      " [ 1 67  1 12  0 25 84  1  8 38]\n",
      " [53  1 14  1  9 14  1 90 16 19]\n",
      " [22  4 71 69  1  1  0 95 37 23]\n",
      " [61 61 68 45  1  1 22 51 93 87]\n",
      " [ 3 89 40  1 30 32  1  7 91 68]\n",
      " [77 29  1  0 79 60 51  1  6 17]\n",
      " [77  1 56  2 18 78 17 40  1  8]\n",
      " [ 1  5 34 27 21 16 89 49  7  1]]\n",
      "\n",
      "Normalized Matrix:\n",
      " [[0.01030928 0.41237113 0.27835052 1.         0.64948454 0.5257732\n",
      "  0.31958763 0.30927835 0.27835052 0.01030928]\n",
      " [0.80412371 0.01030928 0.44329897 0.36082474 0.68041237 0.58762887\n",
      "  0.19587629 0.42268041 0.01030928 0.06185567]\n",
      " [0.01030928 0.69072165 0.01030928 0.12371134 0.         0.25773196\n",
      "  0.86597938 0.01030928 0.08247423 0.39175258]\n",
      " [0.54639175 0.01030928 0.1443299  0.01030928 0.09278351 0.1443299\n",
      "  0.01030928 0.92783505 0.16494845 0.19587629]\n",
      " [0.22680412 0.04123711 0.73195876 0.71134021 0.01030928 0.01030928\n",
      "  0.         0.97938144 0.3814433  0.2371134 ]\n",
      " [0.62886598 0.62886598 0.70103093 0.46391753 0.01030928 0.01030928\n",
      "  0.22680412 0.5257732  0.95876289 0.89690722]\n",
      " [0.03092784 0.91752577 0.41237113 0.01030928 0.30927835 0.32989691\n",
      "  0.01030928 0.07216495 0.93814433 0.70103093]\n",
      " [0.79381443 0.29896907 0.01030928 0.         0.81443299 0.6185567\n",
      "  0.5257732  0.01030928 0.06185567 0.17525773]\n",
      " [0.79381443 0.01030928 0.57731959 0.02061856 0.18556701 0.80412371\n",
      "  0.17525773 0.41237113 0.01030928 0.08247423]\n",
      " [0.01030928 0.05154639 0.35051546 0.27835052 0.21649485 0.16494845\n",
      "  0.91752577 0.50515464 0.07216495 0.01030928]]\n",
      "\n",
      "Prime Numbers in Matrix:\n",
      " [np.int32(97), np.int32(31), np.int32(43), np.int32(19), np.int32(41), np.int32(67), np.int32(53), np.int32(19), np.int32(71), np.int32(37), np.int32(23), np.int32(61), np.int32(61), np.int32(3), np.int32(89), np.int32(7), np.int32(29), np.int32(79), np.int32(17), np.int32(2), np.int32(17), np.int32(5), np.int32(89), np.int32(7)]\n"
     ]
    }
   ],
   "source": [
    "#Practice Challenge : Create a 10x10 matrix / Replace diagonals with 1 / Normalize between 0–1 Extract all prime numbers from it\n",
    "\n",
    "import numpy as np\n",
    "\n",
    "# Step 1: Create 10x10 random integer matrix\n",
    "matrix = np.random.randint(0, 100, (10, 10))\n",
    "print(\"Original Matrix:\\n\", matrix)\n",
    "\n",
    "# Step 2: Replace both diagonals with 1\n",
    "for i in range(10):\n",
    "    matrix[i, i] = 1                      # Main diagonal\n",
    "    matrix[i, 9 - i] = 1                  # Anti-diagonal\n",
    "\n",
    "print(\"\\nMatrix with Diagonals Replaced:\\n\", matrix)\n",
    "\n",
    "# Step 3: Normalize between 0 and 1\n",
    "min_val = matrix.min()\n",
    "max_val = matrix.max()\n",
    "\n",
    "normalized_matrix = (matrix - min_val) / (max_val - min_val)\n",
    "print(\"\\nNormalized Matrix:\\n\", normalized_matrix)\n",
    "\n",
    "# Prime-check helper\n",
    "def is_prime(n):\n",
    "    if n < 2: return False\n",
    "    for i in range(2, int(n**0.5)+1):\n",
    "        if n % i == 0: return False\n",
    "    return True\n",
    "\n",
    "# Step 4: Extract primes from the original matrix\n",
    "primes = [num for row in matrix for num in row if is_prime(num)]\n",
    "print(\"\\nPrime Numbers in Matrix:\\n\", primes)\n"
   ]
  },
  {
   "cell_type": "code",
   "execution_count": null,
   "id": "7725c7bf-db36-4ce5-9a8f-e8e8836bfeaa",
   "metadata": {},
   "outputs": [],
   "source": []
  }
 ],
 "metadata": {
  "kernelspec": {
   "display_name": "Python 3 (ipykernel)",
   "language": "python",
   "name": "python3"
  },
  "language_info": {
   "codemirror_mode": {
    "name": "ipython",
    "version": 3
   },
   "file_extension": ".py",
   "mimetype": "text/x-python",
   "name": "python",
   "nbconvert_exporter": "python",
   "pygments_lexer": "ipython3",
   "version": "3.12.7"
  }
 },
 "nbformat": 4,
 "nbformat_minor": 5
}
