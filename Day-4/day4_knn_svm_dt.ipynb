{
 "cells": [
  {
   "cell_type": "markdown",
   "id": "48fa7121-e0bb-4ba6-8c32-c4cf7f225f53",
   "metadata": {},
   "source": [
    "# Day 4"
   ]
  },
  {
   "cell_type": "markdown",
   "id": "a6e77cfe-9d89-4da9-a166-4bad32d3f8c2",
   "metadata": {},
   "source": [
    "KNN Algorithm"
   ]
  },
  {
   "cell_type": "code",
   "execution_count": 11,
   "id": "262c742a-746f-4bed-b516-b4063d297419",
   "metadata": {},
   "outputs": [
    {
     "name": "stdout",
     "output_type": "stream",
     "text": [
      "Accuracy: 0.95\n",
      "Confusion Matrix:\n",
      " [[40  3]\n",
      " [ 3 68]]\n",
      "Classification Report:\n",
      "               precision    recall  f1-score   support\n",
      "\n",
      "           0       0.93      0.93      0.93        43\n",
      "           1       0.96      0.96      0.96        71\n",
      "\n",
      "    accuracy                           0.95       114\n",
      "   macro avg       0.94      0.94      0.94       114\n",
      "weighted avg       0.95      0.95      0.95       114\n",
      "\n"
     ]
    }
   ],
   "source": [
    "from sklearn.datasets import load_breast_cancer\n",
    "from sklearn.model_selection import train_test_split\n",
    "from sklearn.preprocessing import StandardScaler\n",
    "from sklearn.neighbors import KNeighborsClassifier\n",
    "from sklearn.metrics import accuracy_score, classification_report, confusion_matrix\n",
    "\n",
    "# Load dataset\n",
    "data = load_breast_cancer()\n",
    "X = data.data\n",
    "y = data.target\n",
    "\n",
    "# STEP 1: Split the dataset (ALWAYS do this BEFORE scaling)\n",
    "X_train, X_test, y_train, y_test = train_test_split(X, y, test_size=0.2, random_state=42)\n",
    "\n",
    "# STEP 2: Scale the features\n",
    "scaler = StandardScaler()\n",
    "X_train = scaler.fit_transform(X_train)\n",
    "X_test = scaler.transform(X_test)\n",
    "\n",
    "# STEP 3: Initialize and train the model\n",
    "knn = KNeighborsClassifier(n_neighbors=5)\n",
    "knn.fit(X_train, y_train)\n",
    "\n",
    "# STEP 4: Make predictions\n",
    "y_pred = knn.predict(X_test)\n",
    "\n",
    "# STEP 5: Evaluate the model\n",
    "acc = accuracy_score(y_test, y_pred)\n",
    "cm = confusion_matrix(y_test, y_pred)\n",
    "report = classification_report(y_test, y_pred)\n",
    "\n",
    "print(f\"Accuracy: {acc:.2f}\")\n",
    "print(\"Confusion Matrix:\\n\", cm)\n",
    "print(\"Classification Report:\\n\", report)\n"
   ]
  },
  {
   "cell_type": "code",
   "execution_count": 2,
   "id": "5d6ceea0-61a4-40e9-8e10-e687b13a00fc",
   "metadata": {},
   "outputs": [
    {
     "name": "stdout",
     "output_type": "stream",
     "text": [
      "Prediction (0=Class A, 1=Class B): [0]\n"
     ]
    },
    {
     "data": {
      "image/png": "[encoded data removed]",
      "text/plain": [
       "<Figure size 640x480 with 1 Axes>"
      ]
     },
     "metadata": {},
     "output_type": "display_data"
    }
   ],
   "source": [
    "import numpy as np\n",
    "import matplotlib.pyplot as plt\n",
    "from sklearn.neighbors import KNeighborsClassifier\n",
    "\n",
    "X = np.array([[1, 1], [2, 2], [3, 1], [6, 5], [7, 7], [8, 6]])  # Features\n",
    "y = np.array([0, 0, 0, 1, 1, 1])  # Labels (0 or 1)\n",
    "\n",
    "model = KNeighborsClassifier(n_neighbors=3)  # Try K = 3\n",
    "model.fit(X, y)\n",
    "\n",
    "new_point = np.array([[4, 3]])\n",
    "prediction = model.predict(new_point)\n",
    "print(\"Prediction (0=Class A, 1=Class B):\", prediction)\n",
    "\n",
    "plt.scatter(X[:,0], X[:,1], c=y, cmap='coolwarm', label='Training data')\n",
    "plt.scatter(new_point[0][0], new_point[0][1], color='green', label='New Point')\n",
    "plt.legend()\n",
    "plt.grid(True)\n",
    "plt.title('KNN Classification (K=3)')\n",
    "plt.show()\n"
   ]
  },
  {
   "cell_type": "markdown",
   "id": "5e95f33a-1bf5-4fa5-baf8-d7d30c42f9bb",
   "metadata": {},
   "source": [
    "SVM (Support vector Machine)"
   ]
  },
  {
   "cell_type": "code",
   "execution_count": 4,
   "id": "2c9e1741-9af5-4549-bdb8-796a947bcf50",
   "metadata": {},
   "outputs": [
    {
     "name": "stdout",
     "output_type": "stream",
     "text": [
      "Accuracy on Test Data: 1.0\n",
      "\n",
      "Classification Report on Test Data:\n",
      "               precision    recall  f1-score   support\n",
      "\n",
      "           0       1.00      1.00      1.00         2\n",
      "\n",
      "    accuracy                           1.00         2\n",
      "   macro avg       1.00      1.00      1.00         2\n",
      "weighted avg       1.00      1.00      1.00         2\n",
      "\n",
      "Loans for 1 is Approved\n",
      "Loans for 2 is Denied\n"
     ]
    }
   ],
   "source": [
    "import numpy as np\n",
    "from sklearn.svm import SVC\n",
    "from sklearn.metrics import classification_report, accuracy_score\n",
    "import joblib\n",
    "from sklearn.model_selection import train_test_split\n",
    "\n",
    "X = np.array([\n",
    "    [1, 0, 1, 1, 1],  # approved\n",
    "    [0, 1, 0, 0, 0],  # denied\n",
    "    [1, 1, 1, 1, 1],  # approved\n",
    "    [0, 0, 0, 0, 1],  # denied\n",
    "    [1, 0, 1, 1, 0],  # approved\n",
    "    [0, 1, 0, 0, 1],  # denied\n",
    "    [1, 0, 0, 1, 1],  # approved\n",
    "    [1, 1, 1, 0, 1],  # approved\n",
    "    [0, 1, 1, 0, 0],  # denied\n",
    "    [1, 0, 1, 0, 1],  # approved\n",
    "])\n",
    "\n",
    "y = np.array([1, 0, 1, 0, 1, 0, 1, 1, 0, 1])  # 1 = approved, 0 = denied\n",
    "\n",
    "X_train, X_test, y_train, y_test = train_test_split(X, y, test_size=0.2, random_state=42)\n",
    "\n",
    "model = SVC(kernel=\"linear\")\n",
    "model.fit(X_train, y_train)\n",
    "\n",
    "\n",
    "joblib.dump(model,\"Bank_approve.plk\")\n",
    "\n",
    "model =joblib.load(\"Bank_approve.plk\")\n",
    "\n",
    "test_preds = model.predict(X_test)\n",
    "\n",
    "print(\"Accuracy on Test Data:\", accuracy_score(y_test, test_preds))\n",
    "print(\"\\nClassification Report on Test Data:\\n\", classification_report(y_test, test_preds))\n",
    "\n",
    "new_customers = np.array([\n",
    "    [1, 0, 1, 1, 1],  # expected approved\n",
    "    [0, 1, 0, 0, 0],  # expected denied\n",
    "])\n",
    "\n",
    "new_preds=model.predict(new_customers)\n",
    "for i,  preds in  enumerate(new_preds):\n",
    "    label= [\"Denied\",\"Approved\"][preds]\n",
    "    print(f\"Loans for {i+1} is {label}\")"
   ]
  },
  {
   "cell_type": "code",
   "execution_count": 15,
   "id": "babff619-c5c6-4c14-a9c0-05515dfd0375",
   "metadata": {},
   "outputs": [
    {
     "name": "stdout",
     "output_type": "stream",
     "text": [
      "Accuracy Score:0.96\n",
      "Confusion Matrix :\n",
      " [[41  2]\n",
      " [ 3 68]]\n",
      "Classification Report: \n",
      "               precision    recall  f1-score   support\n",
      "\n",
      "           0       0.93      0.95      0.94        43\n",
      "           1       0.97      0.96      0.96        71\n",
      "\n",
      "    accuracy                           0.96       114\n",
      "   macro avg       0.95      0.96      0.95       114\n",
      "weighted avg       0.96      0.96      0.96       114\n",
      "\n"
     ]
    }
   ],
   "source": [
    "from sklearn.datasets import load_breast_cancer\n",
    "from sklearn.svm import SVC\n",
    "from sklearn.model_selection import train_test_split\n",
    "from sklearn.metrics import accuracy_score , confusion_matrix , classification_report\n",
    "from sklearn.preprocessing import StandardScaler\n",
    "\n",
    "data = load_breast_cancer()\n",
    "X = data.data\n",
    "y = data.target\n",
    "\n",
    "X_train , X_test , y_train , y_test = train_test_split(X , y , test_size=0.2 , random_state = 42)\n",
    "\n",
    "scaler = StandardScaler()\n",
    "X_train = scaler.fit_transform(X_train)\n",
    "X_test = scaler.transform(X_test)\n",
    "\n",
    "svm = SVC(kernel = 'linear')\n",
    "svm.fit(X_train,y_train)\n",
    "\n",
    "y_pred = svm.predict(X_test)\n",
    "\n",
    "acc = accuracy_score(y_test,y_pred)\n",
    "cm = confusion_matrix(y_test,y_pred)\n",
    "report = classification_report(y_test,y_pred)\n",
    "\n",
    "print(f\"Accuracy Score:{acc :.2f}\")\n",
    "print(\"Confusion Matrix :\\n\",cm)\n",
    "print(\"Classification Report: \\n\",report)"
   ]
  },
  {
   "cell_type": "markdown",
   "id": "864e65ff-a619-49a6-a500-8890dc24c3f9",
   "metadata": {},
   "source": [
    "Decision Tree"
   ]
  },
  {
   "cell_type": "code",
   "execution_count": 26,
   "id": "c24d1b67-c854-455e-a447-5d9329c9a673",
   "metadata": {},
   "outputs": [
    {
     "name": "stdout",
     "output_type": "stream",
     "text": [
      "Accuracy score: 0.95\n",
      "Confusion Matrix : \n",
      " [[40  3]\n",
      " [ 3 68]]\n",
      "Classification Matrix : \n",
      "               precision    recall  f1-score   support\n",
      "\n",
      "           0       0.93      0.93      0.93        43\n",
      "           1       0.96      0.96      0.96        71\n",
      "\n",
      "    accuracy                           0.95       114\n",
      "   macro avg       0.94      0.94      0.94       114\n",
      "weighted avg       0.95      0.95      0.95       114\n",
      "\n"
     ]
    }
   ],
   "source": [
    "from sklearn.datasets import load_breast_cancer\n",
    "from sklearn.model_selection import train_test_split\n",
    "from sklearn.tree import DecisionTreeClassifier\n",
    "from sklearn.metrics import accuracy_score , classification_report , confusion_matrix\n",
    "from sklearn.preprocessing import StandardScaler\n",
    "\n",
    "data = load_breast_cancer()\n",
    "X = data.data\n",
    "y = data.target\n",
    "\n",
    "X_train , X_test , y_train , y_test = train_test_split(X , y , test_size=0.2 , random_state = 42)\n",
    "\n",
    "scaler = StandardScaler()\n",
    "X_train = scaler.fit_transform(X_train)  # FIXED: Pass X_train here\n",
    "X_test = scaler.transform(X_test)     \n",
    "\n",
    "dt = DecisionTreeClassifier(random_state=42)\n",
    "dt.fit(X_train,y_train)\n",
    "\n",
    "y_pred = dt.predict(X_test)\n",
    "\n",
    "acc = accuracy_score(y_test, y_pred)\n",
    "cm = confusion_matrix(y_test, y_pred)\n",
    "report = classification_report(y_test, y_pred)\n",
    "\n",
    "print(f\"Accuracy score: {acc:.2f}\")\n",
    "print(\"Confusion Matrix : \\n\",cm)\n",
    "print(\"Classification Matrix : \\n\",report)"
   ]
  },
  {
   "cell_type": "code",
   "execution_count": 3,
   "id": "c4ee310e-05de-4007-b775-a607a03334d9",
   "metadata": {},
   "outputs": [
    {
     "name": "stdout",
     "output_type": "stream",
     "text": [
      "New Fruit 1 = Banana / 0 = Not Banana): [0]\n"
     ]
    }
   ],
   "source": [
    "import numpy as np\n",
    "from sklearn.tree import DecisionTreeClassifier\n",
    "\n",
    "X = np.array([[1,1,1], [1,0,1], [0,0,0], [0,1,0]])\n",
    "Y = np.array([1,1,0,0])\n",
    "\n",
    "model = DecisionTreeClassifier()\n",
    "model.fit(X,Y)\n",
    "\n",
    "New_Fruit=np.array([[1,1,0]])\n",
    "predict=model.predict(New_Fruit)\n",
    "print(\"New Fruit 1 = Banana / 0 = Not Banana):\",predict)"
   ]
  },
  {
   "cell_type": "code",
   "execution_count": null,
   "id": "b65e731a-83c1-4703-8aeb-32778b3977cd",
   "metadata": {},
   "outputs": [],
   "source": []
  }
 ],
 "metadata": {
  "kernelspec": {
   "display_name": "Python 3 (ipykernel)",
   "language": "python",
   "name": "python3"
  },
  "language_info": {
   "codemirror_mode": {
    "name": "ipython",
    "version": 3
   },
   "file_extension": ".py",
   "mimetype": "text/x-python",
   "name": "python",
   "nbconvert_exporter": "python",
   "pygments_lexer": "ipython3",
   "version": "3.12.7"
  }
 },
 "nbformat": 4,
 "nbformat_minor": 5
}
